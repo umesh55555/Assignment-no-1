{
  "nbformat": 4,
  "nbformat_minor": 0,
  "metadata": {
    "colab": {
      "provenance": []
    },
    "kernelspec": {
      "name": "python3",
      "display_name": "Python 3"
    },
    "language_info": {
      "name": "python"
    }
  },
  "cells": [
    {
      "cell_type": "code",
      "execution_count": null,
      "metadata": {
        "colab": {
          "base_uri": "https://localhost:8080/"
        },
        "id": "hrfLZpW0tgpp",
        "outputId": "16e40cc0-20c8-4fa2-b256-3b9f91adeb5e"
      },
      "outputs": [
        {
          "output_type": "stream",
          "name": "stdout",
          "text": [
            "Total sales for the week: 1350\n",
            "Average sales per day: 192.85714285714286\n",
            "Day 6 had the highest sales: 300\n",
            "Days with sales above average: [3, 5, 6]\n",
            "Updated sales list after increasing each day's sales by 10%:\n",
            "Day 1: 110.00000000000001\n",
            "Day 2: 165.0\n",
            "Day 3: 220.00000000000003\n",
            "Day 4: 198.00000000000003\n",
            "Day 5: 275.0\n",
            "Day 6: 330.0\n",
            "Day 7: 187.00000000000003\n"
          ]
        }
      ],
      "source": [
        "def main():\n",
        "    # Sample sales data for a week (replace with your actual data)\n",
        "    sales = [100, 150, 200, 180, 250, 300, 170]\n",
        "\n",
        "    # Calculate total sales for the week\n",
        "    total_sales = sum(sales)\n",
        "    print(f\"Total sales for the week: {total_sales}\")\n",
        "\n",
        "    # Calculate average sales per day\n",
        "    average_sales = total_sales / len(sales)\n",
        "    print(f\"Average sales per day: {average_sales}\")\n",
        "\n",
        "    # Identify the day with the highest sales and print the sales amount\n",
        "    max_sales = max(sales)\n",
        "    max_sales_day = sales.index(max_sales) + 1  # Assuming days are indexed from 1\n",
        "    print(f\"Day {max_sales_day} had the highest sales: {max_sales}\")\n",
        "\n",
        "    # Determine the days where sales were above the average sales\n",
        "    above_average_days = [day + 1 for day, sale in enumerate(sales) if sale > average_sales]\n",
        "    print(f\"Days with sales above average: {above_average_days}\")\n",
        "\n",
        "    # Increase sales amount of each day by 10% and print the updated sales list\n",
        "    updated_sales = [sale * 1.1 for sale in sales]\n",
        "    print(\"Updated sales list after increasing each day's sales by 10%:\")\n",
        "    for day, sale in enumerate(updated_sales):\n",
        "        print(f\"Day {day + 1}: {sale}\")\n",
        "\n",
        "if __name__ == \"__main__\":\n",
        "    main()\n"
      ]
    },
    {
      "cell_type": "code",
      "source": [
        "def main():\n",
        "    # Given scores list\n",
        "    scores = [75, 88, 92, 67, 85, 94, 73, 80, 78, 90]\n",
        "\n",
        "    # Calculate the total score of the class\n",
        "    total_score = 0\n",
        "    for score in scores:\n",
        "        total_score += score\n",
        "    print(f\"Total score of the class: {total_score}\")\n",
        "\n",
        "    # Calculate the average score of the class\n",
        "    average_score = total_score / len(scores)\n",
        "    print(f\"Average score of the class: {average_score}\")\n",
        "\n",
        "    # Find and print the highest score in the class\n",
        "    highest_score = scores[0]  # Initialize with the first score\n",
        "    for score in scores:\n",
        "        if score > highest_score:\n",
        "            highest_score = score\n",
        "    print(f\"Highest score in the class: {highest_score}\")\n",
        "\n",
        "    # Count how many students scored above the average score\n",
        "    above_average_count = 0\n",
        "    for score in scores:\n",
        "        if score > average_score:\n",
        "            above_average_count += 1\n",
        "    print(f\"Number of students scored above the average score: {above_average_count}\")\n",
        "\n",
        "    # Print a list of scores in ascending order\n",
        "    sorted_scores = sorted(scores)\n",
        "    print(\"Scores in ascending order:\")\n",
        "    for score in sorted_scores:\n",
        "        print(score)\n",
        "\n",
        "if __name__ == \"__main__\":\n",
        "    main()\n"
      ],
      "metadata": {
        "colab": {
          "base_uri": "https://localhost:8080/"
        },
        "id": "3ICErOCLuy0y",
        "outputId": "2a6d334a-591f-4ede-cd0a-338cf4bc8877"
      },
      "execution_count": null,
      "outputs": [
        {
          "output_type": "stream",
          "name": "stdout",
          "text": [
            "Total score of the class: 822\n",
            "Average score of the class: 82.2\n",
            "Highest score in the class: 94\n",
            "Number of students scored above the average score: 5\n",
            "Scores in ascending order:\n",
            "67\n",
            "73\n",
            "75\n",
            "78\n",
            "80\n",
            "85\n",
            "88\n",
            "90\n",
            "92\n",
            "94\n"
          ]
        }
      ]
    },
    {
      "cell_type": "code",
      "source": [
        "def main():\n",
        "    # Given monthly income and expenses\n",
        "    monthly_income = 5000\n",
        "    rent = 1500\n",
        "    groceries = 600\n",
        "    utilities = 200\n",
        "    transportation = 300\n",
        "    entertainment = 400\n",
        "\n",
        "    # Calculate total expenses\n",
        "    total_expenses = rent + groceries + utilities + transportation + entertainment\n",
        "\n",
        "    # Calculate final savings amount\n",
        "    final_savings = monthly_income - total_expenses\n",
        "\n",
        "    # Print the final savings amount\n",
        "    print(f\"Final savings amount: ${final_savings}\")\n",
        "\n",
        "if __name__ == \"__main__\":\n",
        "    main()\n"
      ],
      "metadata": {
        "id": "wslYXWCnwRWT",
        "outputId": "ae31d667-ebeb-452b-a817-9007e6472609",
        "colab": {
          "base_uri": "https://localhost:8080/"
        }
      },
      "execution_count": null,
      "outputs": [
        {
          "output_type": "stream",
          "name": "stdout",
          "text": [
            "Final savings amount: $2000\n"
          ]
        }
      ]
    }
  ]
}